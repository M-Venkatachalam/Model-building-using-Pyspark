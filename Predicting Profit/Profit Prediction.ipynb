{
 "cells": [
  {
   "cell_type": "markdown",
   "id": "21de78c0",
   "metadata": {},
   "source": [
    "## Import necessary packages"
   ]
  },
  {
   "cell_type": "code",
   "execution_count": 1,
   "id": "216423ac",
   "metadata": {},
   "outputs": [],
   "source": [
    "import numpy as np\n",
    "import pandas as pd\n",
    "import pyspark\n",
    "from pyspark import SparkConf, SparkContext, SQLContext\n",
    "from pyspark.sql import SparkSession\n",
    "from pyspark.sql.functions import udf # @udf(\"integer\") def myfunc(x,y): return x - y\n",
    "from pyspark.sql import functions as F # stddev format_number date_format, dayofyear, when\n",
    "from pyspark.sql.types import StructField, StringType, IntegerType, StructType"
   ]
  },
  {
   "cell_type": "markdown",
   "id": "e379dd6f",
   "metadata": {},
   "source": [
    "## Checking the versions"
   ]
  },
  {
   "cell_type": "code",
   "execution_count": 2,
   "id": "b41501d2",
   "metadata": {},
   "outputs": [
    {
     "name": "stdout",
     "output_type": "stream",
     "text": [
      "[('numpy', '1.20.3'), ('pandas', '1.3.4'), ('pyspark', '3.2.1')]\n"
     ]
    }
   ],
   "source": [
    "print([(x.__name__,x.__version__) for x in [np, pd, pyspark]])"
   ]
  },
  {
   "cell_type": "markdown",
   "id": "fb87c68c",
   "metadata": {},
   "source": [
    "## Session Building"
   ]
  },
  {
   "cell_type": "code",
   "execution_count": 3,
   "id": "a4b93b84",
   "metadata": {},
   "outputs": [
    {
     "name": "stderr",
     "output_type": "stream",
     "text": [
      "C:\\Users\\sanke\\Anaconda3\\lib\\site-packages\\pyspark\\sql\\context.py:77: FutureWarning: Deprecated in 3.0.0. Use SparkSession.builder.getOrCreate() instead.\n",
      "  warnings.warn(\n"
     ]
    }
   ],
   "source": [
    "spark = pyspark.sql.SparkSession.builder.appName('Profit').getOrCreate()\n",
    "sc = spark.sparkContext\n",
    "sqlContext = SQLContext(sc)\n",
    "sc.setLogLevel(\"INFO\")"
   ]
  },
  {
   "cell_type": "code",
   "execution_count": 4,
   "id": "6b576e78",
   "metadata": {},
   "outputs": [
    {
     "name": "stdout",
     "output_type": "stream",
     "text": [
      "50\n",
      "+---------------+--------------+---------+-------+---------+\n",
      "|Marketing Spend|Administration|Transport|   Area|   Profit|\n",
      "+---------------+--------------+---------+-------+---------+\n",
      "|      114523.61|      136897.8| 471784.1|  Dhaka|192261.83|\n",
      "|       162597.7|     151377.59|443898.53|    Ctg|191792.06|\n",
      "|      153441.51|     101145.55|407934.54|Rangpur|191050.39|\n",
      "|      144372.41|     118671.85|383199.62|  Dhaka|182901.99|\n",
      "|      142107.34|      91391.77|366168.42|Rangpur|166187.94|\n",
      "|       131876.9|      99814.71|362861.36|  Dhaka|156991.12|\n",
      "|      134615.46|     147198.87|127716.82|    Ctg|156122.51|\n",
      "|      130298.13|     145530.06|323876.68|Rangpur| 155752.6|\n",
      "|      120542.52|     148718.95|311613.29|  Dhaka|152211.77|\n",
      "|      123334.88|     108679.17|304981.62|    Ctg|149759.96|\n",
      "|      101913.08|     110594.11|229160.95|Rangpur|146121.95|\n",
      "|      100671.96|      91790.61|249744.55|    Ctg| 144259.4|\n",
      "|       93863.75|     127320.38|249839.44|Rangpur|141585.52|\n",
      "|       91992.39|     135495.07|252664.93|    Ctg|134307.35|\n",
      "|      119943.24|     156547.42|256512.92|Rangpur|132602.65|\n",
      "|       165349.2|     122616.84|261776.23|  Dhaka|129917.04|\n",
      "|       78013.11|     121597.55|264346.06|    Ctg|126992.93|\n",
      "|       94657.16|     145077.58|282574.31|  Dhaka|125370.37|\n",
      "|       91749.16|     114175.79|294919.57|Rangpur| 124266.9|\n",
      "|        86419.7|     153514.11|      0.0|  Dhaka|122776.86|\n",
      "+---------------+--------------+---------+-------+---------+\n",
      "only showing top 20 rows\n",
      "\n"
     ]
    }
   ],
   "source": [
    "df = spark.read.csv('online.csv',header=True,inferSchema=True)\n",
    "print(df.count())\n",
    "df.show()"
   ]
  },
  {
   "cell_type": "code",
   "execution_count": 5,
   "id": "593babc1",
   "metadata": {},
   "outputs": [
    {
     "name": "stdout",
     "output_type": "stream",
     "text": [
      "root\n",
      " |-- Marketing Spend: double (nullable = true)\n",
      " |-- Administration: double (nullable = true)\n",
      " |-- Transport: double (nullable = true)\n",
      " |-- Area: string (nullable = true)\n",
      " |-- Profit: double (nullable = true)\n",
      "\n"
     ]
    }
   ],
   "source": [
    "df.printSchema()"
   ]
  },
  {
   "cell_type": "code",
   "execution_count": 6,
   "id": "defe2808",
   "metadata": {},
   "outputs": [
    {
     "name": "stdout",
     "output_type": "stream",
     "text": [
      "['Marketing Spend', 'Administration', 'Transport', 'Area', 'Profit']\n"
     ]
    }
   ],
   "source": [
    "print(df.columns)"
   ]
  },
  {
   "cell_type": "code",
   "execution_count": 7,
   "id": "a075d076",
   "metadata": {},
   "outputs": [
    {
     "data": {
      "text/html": [
       "<div>\n",
       "<style scoped>\n",
       "    .dataframe tbody tr th:only-of-type {\n",
       "        vertical-align: middle;\n",
       "    }\n",
       "\n",
       "    .dataframe tbody tr th {\n",
       "        vertical-align: top;\n",
       "    }\n",
       "\n",
       "    .dataframe thead th {\n",
       "        text-align: right;\n",
       "    }\n",
       "</style>\n",
       "<table border=\"1\" class=\"dataframe\">\n",
       "  <thead>\n",
       "    <tr style=\"text-align: right;\">\n",
       "      <th></th>\n",
       "      <th>0</th>\n",
       "      <th>1</th>\n",
       "      <th>2</th>\n",
       "      <th>3</th>\n",
       "      <th>4</th>\n",
       "    </tr>\n",
       "  </thead>\n",
       "  <tbody>\n",
       "    <tr>\n",
       "      <th>summary</th>\n",
       "      <td>count</td>\n",
       "      <td>mean</td>\n",
       "      <td>stddev</td>\n",
       "      <td>min</td>\n",
       "      <td>max</td>\n",
       "    </tr>\n",
       "    <tr>\n",
       "      <th>Marketing Spend</th>\n",
       "      <td>50</td>\n",
       "      <td>73721.61559999999</td>\n",
       "      <td>45902.25648230754</td>\n",
       "      <td>0.0</td>\n",
       "      <td>165349.2</td>\n",
       "    </tr>\n",
       "    <tr>\n",
       "      <th>Administration</th>\n",
       "      <td>50</td>\n",
       "      <td>121344.63959999995</td>\n",
       "      <td>28017.802755488683</td>\n",
       "      <td>51283.14</td>\n",
       "      <td>182645.56</td>\n",
       "    </tr>\n",
       "    <tr>\n",
       "      <th>Transport</th>\n",
       "      <td>50</td>\n",
       "      <td>211025.09780000005</td>\n",
       "      <td>122290.31072584528</td>\n",
       "      <td>0.0</td>\n",
       "      <td>471784.1</td>\n",
       "    </tr>\n",
       "    <tr>\n",
       "      <th>Area</th>\n",
       "      <td>50</td>\n",
       "      <td>None</td>\n",
       "      <td>None</td>\n",
       "      <td>Ctg</td>\n",
       "      <td>Rangpur</td>\n",
       "    </tr>\n",
       "    <tr>\n",
       "      <th>Profit</th>\n",
       "      <td>50</td>\n",
       "      <td>112012.63920000002</td>\n",
       "      <td>40306.180337650534</td>\n",
       "      <td>14681.4</td>\n",
       "      <td>192261.83</td>\n",
       "    </tr>\n",
       "  </tbody>\n",
       "</table>\n",
       "</div>"
      ],
      "text/plain": [
       "                     0                   1                   2         3  \\\n",
       "summary          count                mean              stddev       min   \n",
       "Marketing Spend     50   73721.61559999999   45902.25648230754       0.0   \n",
       "Administration      50  121344.63959999995  28017.802755488683  51283.14   \n",
       "Transport           50  211025.09780000005  122290.31072584528       0.0   \n",
       "Area                50                None                None       Ctg   \n",
       "Profit              50  112012.63920000002  40306.180337650534   14681.4   \n",
       "\n",
       "                         4  \n",
       "summary                max  \n",
       "Marketing Spend   165349.2  \n",
       "Administration   182645.56  \n",
       "Transport         471784.1  \n",
       "Area               Rangpur  \n",
       "Profit           192261.83  "
      ]
     },
     "execution_count": 7,
     "metadata": {},
     "output_type": "execute_result"
    }
   ],
   "source": [
    "df.describe().toPandas().transpose()\n"
   ]
  },
  {
   "cell_type": "code",
   "execution_count": 8,
   "id": "ffeaaa8f",
   "metadata": {},
   "outputs": [
    {
     "name": "stdout",
     "output_type": "stream",
     "text": [
      "Correlation between Profit and  Marketing Spend 0.9379477570676916\n",
      "Correlation between Profit and  Administration 0.20071656826872136\n",
      "Correlation between Profit and  Transport 0.7477657217414768\n",
      "Correlation between Profit and  Profit 1.0\n"
     ]
    }
   ],
   "source": [
    "import six\n",
    "for i in df.columns:\n",
    "    if not( isinstance(df.select(i).take(1)[0][0], six.string_types)):\n",
    "        print( \"Correlation between Profit and \", i, df.stat.corr('Profit',i))"
   ]
  },
  {
   "cell_type": "code",
   "execution_count": 9,
   "id": "bab262a3",
   "metadata": {},
   "outputs": [
    {
     "name": "stdout",
     "output_type": "stream",
     "text": [
      "+---------------+--------------+---------+----+------+\n",
      "|Marketing Spend|Administration|Transport|Area|Profit|\n",
      "+---------------+--------------+---------+----+------+\n",
      "|              0|             0|        0|   0|     0|\n",
      "+---------------+--------------+---------+----+------+\n",
      "\n"
     ]
    }
   ],
   "source": [
    "from pyspark.sql.functions import isnull, when, count, col\n",
    "df.select([count(when(isnull(c), c)).alias(c) for c in df.columns]).show()"
   ]
  },
  {
   "cell_type": "code",
   "execution_count": 10,
   "id": "fb83b21d",
   "metadata": {},
   "outputs": [
    {
     "data": {
      "text/plain": [
       "[Row(Area='Ctg'), Row(Area='Rangpur'), Row(Area='Dhaka')]"
      ]
     },
     "execution_count": 10,
     "metadata": {},
     "output_type": "execute_result"
    }
   ],
   "source": [
    "df.select('Area').distinct().collect()\n"
   ]
  },
  {
   "cell_type": "code",
   "execution_count": 11,
   "id": "d04d739f",
   "metadata": {},
   "outputs": [],
   "source": [
    "from pyspark.ml.feature import (VectorAssembler, VectorIndexer,\n",
    "                               OneHotEncoder, StringIndexer)"
   ]
  },
  {
   "cell_type": "code",
   "execution_count": 12,
   "id": "5edfd380",
   "metadata": {},
   "outputs": [],
   "source": [
    "Area_indexer = StringIndexer(inputCol='Area', outputCol='Area_index')\n",
    "\n",
    "Area_encoder = OneHotEncoder(inputCol='Area_index', outputCol='Area_vec')"
   ]
  },
  {
   "cell_type": "code",
   "execution_count": 13,
   "id": "326eea58",
   "metadata": {},
   "outputs": [
    {
     "data": {
      "text/plain": [
       "OneHotEncoder_6a614c9b6ef7"
      ]
     },
     "execution_count": 13,
     "metadata": {},
     "output_type": "execute_result"
    }
   ],
   "source": [
    "Area_encoder"
   ]
  },
  {
   "cell_type": "code",
   "execution_count": 14,
   "id": "2a6baef6",
   "metadata": {},
   "outputs": [],
   "source": [
    "assembler = VectorAssembler(inputCols=['Marketing Spend','Administration','Transport',\n",
    "                                      'Area_vec'],\n",
    "                           outputCol='features')"
   ]
  },
  {
   "cell_type": "code",
   "execution_count": 15,
   "id": "3372f5aa",
   "metadata": {},
   "outputs": [],
   "source": [
    "from pyspark.ml.regression import LinearRegression\n",
    "from pyspark.ml import Pipeline\n",
    "from pyspark.ml.regression import RandomForestRegressor\n",
    "from pyspark.ml.evaluation import RegressionEvaluator"
   ]
  },
  {
   "cell_type": "markdown",
   "id": "83167053",
   "metadata": {},
   "source": [
    "## Linear Regression"
   ]
  },
  {
   "cell_type": "code",
   "execution_count": 16,
   "id": "e6db775a",
   "metadata": {},
   "outputs": [],
   "source": [
    "lr = LinearRegression(featuresCol='features',labelCol='Profit')"
   ]
  },
  {
   "cell_type": "code",
   "execution_count": 17,
   "id": "3bee8924",
   "metadata": {},
   "outputs": [],
   "source": [
    "pipeline = Pipeline(stages=[Area_indexer,\n",
    "                            Area_encoder,\n",
    "                           \n",
    "                           assembler, lr])"
   ]
  },
  {
   "cell_type": "code",
   "execution_count": 18,
   "id": "e986e2eb",
   "metadata": {},
   "outputs": [],
   "source": [
    "train, test = df.randomSplit([0.7, 0.3])"
   ]
  },
  {
   "cell_type": "code",
   "execution_count": 19,
   "id": "369fe31c",
   "metadata": {},
   "outputs": [],
   "source": [
    "lr_model = pipeline.fit(train)"
   ]
  },
  {
   "cell_type": "code",
   "execution_count": 20,
   "id": "101b535c",
   "metadata": {},
   "outputs": [],
   "source": [
    "results = lr_model.transform(test)"
   ]
  },
  {
   "cell_type": "code",
   "execution_count": 21,
   "id": "0dd3e1f4",
   "metadata": {},
   "outputs": [
    {
     "name": "stdout",
     "output_type": "stream",
     "text": [
      "+---------------+--------------+---------+-------+--------+\n",
      "|Marketing Spend|Administration|Transport|   Area|  Profit|\n",
      "+---------------+--------------+---------+-------+--------+\n",
      "|            0.0|      116983.8| 45173.06|    Ctg| 14681.4|\n",
      "|            0.0|     135426.92|      0.0|    Ctg|42559.73|\n",
      "|         542.05|      51743.15|      0.0|  Dhaka|35673.41|\n",
      "|        1000.23|     124153.04|  1903.93|  Dhaka|64926.08|\n",
      "|        1315.46|     115816.21|297114.46|Rangpur|49490.75|\n",
      "+---------------+--------------+---------+-------+--------+\n",
      "only showing top 5 rows\n",
      "\n"
     ]
    }
   ],
   "source": [
    "train.show(5)"
   ]
  },
  {
   "cell_type": "code",
   "execution_count": 22,
   "id": "c812c105",
   "metadata": {},
   "outputs": [
    {
     "data": {
      "text/plain": [
       "DataFrame[Marketing Spend: double, Administration: double, Transport: double, Area: string, Profit: double, Area_index: double, Area_vec: vector, features: vector, prediction: double]"
      ]
     },
     "execution_count": 22,
     "metadata": {},
     "output_type": "execute_result"
    }
   ],
   "source": [
    "results"
   ]
  },
  {
   "cell_type": "code",
   "execution_count": 23,
   "id": "20545d56",
   "metadata": {},
   "outputs": [
    {
     "name": "stdout",
     "output_type": "stream",
     "text": [
      "+---------+------------------+\n",
      "|   Profit|        prediction|\n",
      "+---------+------------------+\n",
      "| 81229.06| 69202.64314068602|\n",
      "| 78239.91| 77514.97873436662|\n",
      "|101004.64|101586.38803344106|\n",
      "|108733.99|111895.54408511499|\n",
      "|118474.03|118636.56181053547|\n",
      "|126992.93|118121.75581534335|\n",
      "|141585.52| 128095.9461668768|\n",
      "|132602.65|148703.65854959108|\n",
      "|156991.12|161088.61177088245|\n",
      "|166187.94|166993.93465618376|\n",
      "|191050.39|178315.41442285356|\n",
      "+---------+------------------+\n",
      "\n"
     ]
    }
   ],
   "source": [
    "results.select('Profit','prediction').show()"
   ]
  },
  {
   "cell_type": "code",
   "execution_count": 24,
   "id": "a8abcd90",
   "metadata": {},
   "outputs": [],
   "source": [
    "from pyspark.ml.evaluation import RegressionEvaluator"
   ]
  },
  {
   "cell_type": "code",
   "execution_count": 25,
   "id": "518613ea",
   "metadata": {},
   "outputs": [],
   "source": [
    "my_eval = RegressionEvaluator(predictionCol='prediction',labelCol='Profit',metricName='r2')"
   ]
  },
  {
   "cell_type": "code",
   "execution_count": 26,
   "id": "2dc375cc",
   "metadata": {},
   "outputs": [
    {
     "data": {
      "text/plain": [
       "0.9306698600406349"
      ]
     },
     "execution_count": 26,
     "metadata": {},
     "output_type": "execute_result"
    }
   ],
   "source": [
    "auc = my_eval.evaluate(results)\n",
    "auc"
   ]
  },
  {
   "cell_type": "markdown",
   "id": "996567d2",
   "metadata": {},
   "source": [
    "## Random Forest"
   ]
  },
  {
   "cell_type": "code",
   "execution_count": 27,
   "id": "30956b87",
   "metadata": {},
   "outputs": [],
   "source": [
    "rf = RandomForestRegressor(predictionCol='prediction',labelCol='Profit',numTrees=20, maxDepth=20)"
   ]
  },
  {
   "cell_type": "code",
   "execution_count": 28,
   "id": "fce77fd4",
   "metadata": {},
   "outputs": [],
   "source": [
    "pipeline = Pipeline(stages=[Area_indexer,\n",
    "                            Area_encoder,\n",
    "                           \n",
    "                           assembler, rf])"
   ]
  },
  {
   "cell_type": "code",
   "execution_count": 29,
   "id": "166190fe",
   "metadata": {},
   "outputs": [],
   "source": [
    "rf_model = pipeline.fit(train)"
   ]
  },
  {
   "cell_type": "code",
   "execution_count": 30,
   "id": "9df18a1d",
   "metadata": {},
   "outputs": [],
   "source": [
    "results = rf_model.transform(test)"
   ]
  },
  {
   "cell_type": "code",
   "execution_count": 31,
   "id": "61095f5b",
   "metadata": {},
   "outputs": [
    {
     "name": "stdout",
     "output_type": "stream",
     "text": [
      "+---------+------------------+\n",
      "|   Profit|        prediction|\n",
      "+---------+------------------+\n",
      "| 81229.06|       80451.70475|\n",
      "| 78239.91| 89826.33575000001|\n",
      "|101004.64|104113.49979166672|\n",
      "|108733.99|121371.97999999998|\n",
      "|118474.03|        114554.171|\n",
      "|126992.93|       123922.1105|\n",
      "|141585.52|137809.74275000003|\n",
      "|132602.65|143069.72425000003|\n",
      "|156991.12|       169497.2744|\n",
      "|166187.94|       165204.4315|\n",
      "|191050.39|       165204.4315|\n",
      "+---------+------------------+\n",
      "\n"
     ]
    }
   ],
   "source": [
    "results.select('Profit','prediction').show()"
   ]
  },
  {
   "cell_type": "code",
   "execution_count": 32,
   "id": "383b3a45",
   "metadata": {},
   "outputs": [
    {
     "data": {
      "text/plain": [
       "0.896356894648003"
      ]
     },
     "execution_count": 32,
     "metadata": {},
     "output_type": "execute_result"
    }
   ],
   "source": [
    "s"
   ]
  }
 ],
 "metadata": {
  "kernelspec": {
   "display_name": "Python 3 (ipykernel)",
   "language": "python",
   "name": "python3"
  },
  "language_info": {
   "codemirror_mode": {
    "name": "ipython",
    "version": 3
   },
   "file_extension": ".py",
   "mimetype": "text/x-python",
   "name": "python",
   "nbconvert_exporter": "python",
   "pygments_lexer": "ipython3",
   "version": "3.9.7"
  }
 },
 "nbformat": 4,
 "nbformat_minor": 5
}
